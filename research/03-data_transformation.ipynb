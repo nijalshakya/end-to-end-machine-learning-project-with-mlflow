{
 "cells": [
  {
   "cell_type": "code",
   "execution_count": 19,
   "metadata": {},
   "outputs": [],
   "source": [
    "import os"
   ]
  },
  {
   "cell_type": "code",
   "execution_count": 20,
   "metadata": {},
   "outputs": [
    {
     "data": {
      "text/plain": [
       "'c:\\\\Users\\\\nijal\\\\Desktop\\\\mlproj\\\\end-to-end-machine-learning-project-with-mlflow\\\\src'"
      ]
     },
     "execution_count": 20,
     "metadata": {},
     "output_type": "execute_result"
    }
   ],
   "source": [
    "%pwd"
   ]
  },
  {
   "cell_type": "code",
   "execution_count": 32,
   "metadata": {},
   "outputs": [],
   "source": [
    "os.chdir(\"../\")"
   ]
  },
  {
   "cell_type": "code",
   "execution_count": 27,
   "metadata": {},
   "outputs": [],
   "source": [
    "from dataclasses import dataclass\n",
    "from pathlib import Path\n",
    "\n",
    "\n",
    "@dataclass(frozen=True)\n",
    "class DataTransformationConfig:\n",
    "    root_dir: Path\n",
    "    data_path: Path"
   ]
  },
  {
   "cell_type": "code",
   "execution_count": 26,
   "metadata": {},
   "outputs": [],
   "source": [
    "from mlProject.constants import *\n",
    "from mlProject.utils.common import read_yaml, create_directories"
   ]
  },
  {
   "cell_type": "code",
   "execution_count": 25,
   "metadata": {},
   "outputs": [],
   "source": [
    "os.chdir(\"src/\")"
   ]
  },
  {
   "cell_type": "code",
   "execution_count": 28,
   "metadata": {},
   "outputs": [],
   "source": [
    "class ConfigurationManager:\n",
    "    def __init__(\n",
    "        self,\n",
    "        config_filepath = CONFIG_FILE_PATH,\n",
    "        params_filepath = PARAMS_FILE_PATH,\n",
    "        schema_filepath = SCHEMA_FILE_PATH):\n",
    "\n",
    "        self.config = read_yaml(config_filepath)\n",
    "        self.params = read_yaml(params_filepath)\n",
    "        self.schema = read_yaml(schema_filepath)\n",
    "\n",
    "        create_directories([self.config.artifacts_root])\n",
    "\n",
    "\n",
    "    \n",
    "    def get_data_transformation_config(self) -> DataTransformationConfig:\n",
    "        config = self.config.data_transformation\n",
    "\n",
    "        create_directories([config.root_dir])\n",
    "\n",
    "        data_transformation_config = DataTransformationConfig(\n",
    "            root_dir=config.root_dir,\n",
    "            data_path=config.data_path,\n",
    "        )\n",
    "\n",
    "        return data_transformation_config"
   ]
  },
  {
   "cell_type": "code",
   "execution_count": 16,
   "metadata": {},
   "outputs": [
    {
     "name": "stdout",
     "output_type": "stream",
     "text": [
      "Collecting scikit-learnNote: you may need to restart the kernel to use updated packages.\n",
      "\n",
      "  Obtaining dependency information for scikit-learn from https://files.pythonhosted.org/packages/77/85/bff3a1e818ec6aa3dd466ff4f4b0a727db9fdb41f2e849747ad902ddbe95/scikit_learn-1.3.0-cp311-cp311-win_amd64.whl.metadata\n",
      "  Downloading scikit_learn-1.3.0-cp311-cp311-win_amd64.whl.metadata (11 kB)\n",
      "Requirement already satisfied: numpy>=1.17.3 in c:\\users\\nijal\\desktop\\mlproj\\end-to-end-machine-learning-project-with-mlflow\\mlproj\\lib\\site-packages (from scikit-learn) (1.25.2)\n",
      "Collecting scipy>=1.5.0 (from scikit-learn)\n",
      "  Obtaining dependency information for scipy>=1.5.0 from https://files.pythonhosted.org/packages/06/15/e73734f9170b66c6a84a0bd7e03586e87e77404e2eb8e34749fc49fa43f7/scipy-1.11.2-cp311-cp311-win_amd64.whl.metadata\n",
      "  Downloading scipy-1.11.2-cp311-cp311-win_amd64.whl.metadata (59 kB)\n",
      "     ---------------------------------------- 0.0/59.1 kB ? eta -:--:--\n",
      "     ------------------- ------------------ 30.7/59.1 kB 640.0 kB/s eta 0:00:01\n",
      "     -------------------------- ----------- 41.0/59.1 kB 326.8 kB/s eta 0:00:01\n",
      "     -------------------------------------- 59.1/59.1 kB 390.9 kB/s eta 0:00:00\n",
      "Requirement already satisfied: joblib>=1.1.1 in c:\\users\\nijal\\desktop\\mlproj\\end-to-end-machine-learning-project-with-mlflow\\mlproj\\lib\\site-packages (from scikit-learn) (1.3.2)\n",
      "Collecting threadpoolctl>=2.0.0 (from scikit-learn)\n",
      "  Obtaining dependency information for threadpoolctl>=2.0.0 from https://files.pythonhosted.org/packages/81/12/fd4dea011af9d69e1cad05c75f3f7202cdcbeac9b712eea58ca779a72865/threadpoolctl-3.2.0-py3-none-any.whl.metadata\n",
      "  Downloading threadpoolctl-3.2.0-py3-none-any.whl.metadata (10.0 kB)\n",
      "Downloading scikit_learn-1.3.0-cp311-cp311-win_amd64.whl (9.2 MB)\n",
      "   ---------------------------------------- 0.0/9.2 MB ? eta -:--:--\n",
      "   ---------------------------------------- 0.1/9.2 MB 2.6 MB/s eta 0:00:04\n",
      "   ---------------------------------------- 0.1/9.2 MB 1.1 MB/s eta 0:00:09\n",
      "    --------------------------------------- 0.2/9.2 MB 1.5 MB/s eta 0:00:06\n",
      "   - -------------------------------------- 0.2/9.2 MB 1.2 MB/s eta 0:00:08\n",
      "   -- ------------------------------------- 0.5/9.2 MB 2.0 MB/s eta 0:00:05\n",
      "   -- ------------------------------------- 0.5/9.2 MB 2.0 MB/s eta 0:00:05\n",
      "   --- ------------------------------------ 0.9/9.2 MB 2.7 MB/s eta 0:00:04\n",
      "   ---- ----------------------------------- 1.1/9.2 MB 2.8 MB/s eta 0:00:03\n",
      "   -------- ------------------------------- 2.0/9.2 MB 4.4 MB/s eta 0:00:02\n",
      "   --------- ------------------------------ 2.1/9.2 MB 4.3 MB/s eta 0:00:02\n",
      "   ------------- -------------------------- 3.2/9.2 MB 5.9 MB/s eta 0:00:02\n",
      "   ------------------ --------------------- 4.2/9.2 MB 6.9 MB/s eta 0:00:01\n",
      "   ---------------------- ----------------- 5.3/9.2 MB 7.8 MB/s eta 0:00:01\n",
      "   --------------------------- ------------ 6.4/9.2 MB 8.7 MB/s eta 0:00:01\n",
      "   ----------------------------- ---------- 6.7/9.2 MB 9.0 MB/s eta 0:00:01\n",
      "   --------------------------------- ------ 7.7/9.2 MB 9.3 MB/s eta 0:00:01\n",
      "   ---------------------------------------  9.1/9.2 MB 10.1 MB/s eta 0:00:01\n",
      "   ---------------------------------------  9.2/9.2 MB 10.1 MB/s eta 0:00:01\n",
      "   ---------------------------------------  9.2/9.2 MB 10.1 MB/s eta 0:00:01\n",
      "   ---------------------------------------- 9.2/9.2 MB 9.2 MB/s eta 0:00:00\n",
      "Downloading scipy-1.11.2-cp311-cp311-win_amd64.whl (44.0 MB)\n",
      "   ---------------------------------------- 0.0/44.0 MB ? eta -:--:--\n",
      "    --------------------------------------- 0.6/44.0 MB 12.9 MB/s eta 0:00:04\n",
      "   - -------------------------------------- 1.6/44.0 MB 14.3 MB/s eta 0:00:03\n",
      "   -- ------------------------------------- 2.6/44.0 MB 15.3 MB/s eta 0:00:03\n",
      "   --- ------------------------------------ 3.5/44.0 MB 15.1 MB/s eta 0:00:03\n",
      "   ---- ----------------------------------- 4.6/44.0 MB 15.5 MB/s eta 0:00:03\n",
      "   ----- ---------------------------------- 5.9/44.0 MB 16.4 MB/s eta 0:00:03\n",
      "   ------ --------------------------------- 7.1/44.0 MB 16.8 MB/s eta 0:00:03\n",
      "   ------- -------------------------------- 8.0/44.0 MB 17.1 MB/s eta 0:00:03\n",
      "   -------- ------------------------------- 9.2/44.0 MB 17.8 MB/s eta 0:00:02\n",
      "   --------- ------------------------------ 10.2/44.0 MB 17.7 MB/s eta 0:00:02\n",
      "   ---------- ----------------------------- 11.4/44.0 MB 18.7 MB/s eta 0:00:02\n",
      "   ----------- ---------------------------- 12.6/44.0 MB 18.7 MB/s eta 0:00:02\n",
      "   ------------ --------------------------- 13.9/44.0 MB 19.9 MB/s eta 0:00:02\n",
      "   ------------- -------------------------- 15.0/44.0 MB 19.8 MB/s eta 0:00:02\n",
      "   -------------- ------------------------- 15.7/44.0 MB 19.2 MB/s eta 0:00:02\n",
      "   --------------- ------------------------ 16.7/44.0 MB 18.7 MB/s eta 0:00:02\n",
      "   ---------------- ----------------------- 17.6/44.0 MB 18.2 MB/s eta 0:00:02\n",
      "   ----------------- ---------------------- 18.7/44.0 MB 18.2 MB/s eta 0:00:02\n",
      "   ----------------- ---------------------- 19.5/44.0 MB 17.7 MB/s eta 0:00:02\n",
      "   ------------------ --------------------- 20.3/44.0 MB 17.2 MB/s eta 0:00:02\n",
      "   ------------------- -------------------- 21.2/44.0 MB 16.8 MB/s eta 0:00:02\n",
      "   -------------------- ------------------- 22.8/44.0 MB 17.7 MB/s eta 0:00:02\n",
      "   ---------------------- ----------------- 24.4/44.0 MB 19.3 MB/s eta 0:00:02\n",
      "   ------------------------ --------------- 26.7/44.0 MB 22.6 MB/s eta 0:00:01\n",
      "   ------------------------- -------------- 28.1/44.0 MB 26.2 MB/s eta 0:00:01\n",
      "   -------------------------- ------------- 28.9/44.0 MB 24.2 MB/s eta 0:00:01\n",
      "   -------------------------- ------------- 29.4/44.0 MB 23.4 MB/s eta 0:00:01\n",
      "   --------------------------- ------------ 30.2/44.0 MB 23.4 MB/s eta 0:00:01\n",
      "   ---------------------------- ----------- 31.0/44.0 MB 22.6 MB/s eta 0:00:01\n",
      "   ---------------------------- ----------- 31.8/44.0 MB 22.6 MB/s eta 0:00:01\n",
      "   ------------------------------ --------- 33.0/44.0 MB 21.1 MB/s eta 0:00:01\n",
      "   ------------------------------ --------- 33.7/44.0 MB 19.9 MB/s eta 0:00:01\n",
      "   ------------------------------- -------- 34.7/44.0 MB 18.7 MB/s eta 0:00:01\n",
      "   -------------------------------- ------- 35.5/44.0 MB 17.7 MB/s eta 0:00:01\n",
      "   --------------------------------- ------ 36.6/44.0 MB 16.8 MB/s eta 0:00:01\n",
      "   --------------------------------- ------ 37.3/44.0 MB 16.0 MB/s eta 0:00:01\n",
      "   ---------------------------------- ----- 38.1/44.0 MB 15.2 MB/s eta 0:00:01\n",
      "   ----------------------------------- ---- 39.3/44.0 MB 16.0 MB/s eta 0:00:01\n",
      "   ------------------------------------ --- 40.1/44.0 MB 16.8 MB/s eta 0:00:01\n",
      "   ------------------------------------- -- 41.0/44.0 MB 17.2 MB/s eta 0:00:01\n",
      "   -------------------------------------- - 42.3/44.0 MB 17.7 MB/s eta 0:00:01\n",
      "   ---------------------------------------  43.5/44.0 MB 18.2 MB/s eta 0:00:01\n",
      "   ---------------------------------------  44.0/44.0 MB 18.7 MB/s eta 0:00:01\n",
      "   ---------------------------------------  44.0/44.0 MB 18.7 MB/s eta 0:00:01\n",
      "   ---------------------------------------  44.0/44.0 MB 18.7 MB/s eta 0:00:01\n",
      "   ---------------------------------------  44.0/44.0 MB 18.7 MB/s eta 0:00:01\n",
      "   ---------------------------------------- 44.0/44.0 MB 11.5 MB/s eta 0:00:00\n",
      "Downloading threadpoolctl-3.2.0-py3-none-any.whl (15 kB)\n",
      "Installing collected packages: threadpoolctl, scipy, scikit-learn\n",
      "Successfully installed scikit-learn-1.3.0 scipy-1.11.2 threadpoolctl-3.2.0\n"
     ]
    }
   ],
   "source": [
    "pip install scikit-learn"
   ]
  },
  {
   "cell_type": "code",
   "execution_count": 29,
   "metadata": {},
   "outputs": [],
   "source": [
    "import os\n",
    "from mlProject import logger\n",
    "from sklearn.model_selection import train_test_split\n",
    "import pandas as pd"
   ]
  },
  {
   "cell_type": "code",
   "execution_count": 30,
   "metadata": {},
   "outputs": [],
   "source": [
    "class DataTransformation:\n",
    "    def __init__(self, config: DataTransformationConfig):\n",
    "        self.config = config\n",
    "\n",
    "    \n",
    "    ## Note: You can add different data transformation techniques such as Scaler, PCA and all\n",
    "    #You can perform all kinds of EDA in ML cycle here before passing this data to the model\n",
    "\n",
    "    # I am only adding train_test_spliting cz this data is already cleaned up\n",
    "\n",
    "\n",
    "    def train_test_spliting(self):\n",
    "        data = pd.read_csv(self.config.data_path)\n",
    "\n",
    "        # Split the data into training and test sets. (0.75, 0.25) split.\n",
    "        train, test = train_test_split(data)\n",
    "\n",
    "        train.to_csv(os.path.join(self.config.root_dir, \"train.csv\"),index = False)\n",
    "        test.to_csv(os.path.join(self.config.root_dir, \"test.csv\"),index = False)\n",
    "\n",
    "        logger.info(\"Splited data into training and test sets\")\n",
    "        logger.info(train.shape)\n",
    "        logger.info(test.shape)\n",
    "\n",
    "        print(train.shape)\n",
    "        print(test.shape)\n",
    "        "
   ]
  },
  {
   "cell_type": "code",
   "execution_count": 33,
   "metadata": {},
   "outputs": [
    {
     "name": "stdout",
     "output_type": "stream",
     "text": [
      "[2023-09-17 13:06:03,232: INFO: common: yaml file: config\\config.yaml loaded successfully]\n",
      "[2023-09-17 13:06:03,253: INFO: common: yaml file: params.yaml loaded successfully]\n",
      "[2023-09-17 13:06:03,278: INFO: common: yaml file: schema.yaml loaded successfully]\n",
      "[2023-09-17 13:06:03,282: INFO: common: created directory at: artifacts]\n",
      "[2023-09-17 13:06:03,286: INFO: common: created directory at: artifacts/data_transformation]\n"
     ]
    },
    {
     "name": "stdout",
     "output_type": "stream",
     "text": [
      "[2023-09-17 13:06:03,401: INFO: 741865018: Splited data into training and test sets]\n",
      "[2023-09-17 13:06:03,403: INFO: 741865018: (1199, 12)]\n",
      "[2023-09-17 13:06:03,406: INFO: 741865018: (400, 12)]\n",
      "(1199, 12)\n",
      "(400, 12)\n"
     ]
    }
   ],
   "source": [
    "try:\n",
    "    config = ConfigurationManager()\n",
    "    data_transformation_config = config.get_data_transformation_config()\n",
    "    data_transformation = DataTransformation(config=data_transformation_config)\n",
    "    data_transformation.train_test_spliting()\n",
    "except Exception as e:\n",
    "    raise e"
   ]
  },
  {
   "cell_type": "code",
   "execution_count": null,
   "metadata": {},
   "outputs": [],
   "source": []
  },
  {
   "cell_type": "code",
   "execution_count": null,
   "metadata": {},
   "outputs": [],
   "source": []
  },
  {
   "cell_type": "code",
   "execution_count": null,
   "metadata": {},
   "outputs": [],
   "source": []
  }
 ],
 "metadata": {
  "kernelspec": {
   "display_name": "Python 3",
   "language": "python",
   "name": "python3"
  },
  "language_info": {
   "codemirror_mode": {
    "name": "ipython",
    "version": 3
   },
   "file_extension": ".py",
   "mimetype": "text/x-python",
   "name": "python",
   "nbconvert_exporter": "python",
   "pygments_lexer": "ipython3",
   "version": "3.11.0"
  },
  "orig_nbformat": 4
 },
 "nbformat": 4,
 "nbformat_minor": 2
}
